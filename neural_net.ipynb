{
 "cells": [
  {
   "cell_type": "code",
   "execution_count": 2,
   "id": "223c76d7",
   "metadata": {},
   "outputs": [],
   "source": [
    "import numpy as np\n",
    "import matplotlib.pyplot as plt"
   ]
  },
  {
   "cell_type": "code",
   "execution_count": 3,
   "id": "473edfac",
   "metadata": {},
   "outputs": [],
   "source": [
    "# def sigmoid(x): # f(x) = 1 / (1 + e^(-x))\n",
    "#     return 1 / (1 + np.exp(-x))"
   ]
  },
  {
   "cell_type": "code",
   "execution_count": 4,
   "id": "3d6cfb07",
   "metadata": {},
   "outputs": [],
   "source": [
    "# class Neuron:\n",
    "#     def __init__(self, weights, bias):\n",
    "#         self.weights = weights\n",
    "#         self.bias = bias\n",
    "#     def feedforward(self, inputs):\n",
    "#         # multiplying wights and  bias , then adding \n",
    "#         total = np.dot(self.weights, inputs) + self.bias\n",
    "#         return sigmoid(total)\n",
    "    \n",
    "    \n",
    "# weights = np.array([0,1]) # w1 = 0, w2 =1 \n",
    "# bias = 4\n",
    "# n = Neuron(weights, bias)"
   ]
  },
  {
   "cell_type": "code",
   "execution_count": 5,
   "id": "2a212a2c",
   "metadata": {},
   "outputs": [],
   "source": [
    "# x = np.array([2,3])\n",
    "# print(n.feedforward(x)) # step 1 feedforward.."
   ]
  },
  {
   "cell_type": "code",
   "execution_count": 6,
   "id": "6307a6fe",
   "metadata": {},
   "outputs": [],
   "source": [
    "# creating neural-nets with two input neurons and\n",
    "# two hidden layers (neurons) with one output neuron\n",
    "\n",
    "# class NeuralNetwork:\n",
    "#     def __init__(self):\n",
    "        \n",
    "#         wights = np.array([0, 1])\n",
    "#         bias = 0\n",
    "        \n",
    "#         # initializing hidden layer with 2 neurons h1, h2\n",
    "#         self.h1 = Neuron(wights, bias) \n",
    "#         self.h2 = Neuron(weights, bias)\n",
    "#         self.o1 = Neuron(wights, bias) # ouput neuron\n",
    "        \n",
    "        \n",
    "#     def feedforward(self, x): \n",
    "#         out_h1 = self.h1.feedforward(x)\n",
    "#         out_h2 = self.h2.feedforward(x)\n",
    "        \n",
    "#         out_o1 = self.o1.feedforward(np.array([out_h1, out_h2])) # the outputs from h1 and h2 is going \n",
    "#                                                                  # to be the inputs of o1\n",
    "        \n",
    "#         return out_o1\n",
    "        "
   ]
  },
  {
   "cell_type": "code",
   "execution_count": 7,
   "id": "1c1155f3",
   "metadata": {},
   "outputs": [],
   "source": [
    "# network = NeuralNetwork()\n",
    "# x = np.array([2, 3])\n",
    "# print(network.feedforward(x))"
   ]
  },
  {
   "cell_type": "code",
   "execution_count": 27,
   "id": "787f8ee5",
   "metadata": {},
   "outputs": [],
   "source": [
    "def sigmoid(x): # f(x) = 1 / (1 + e^(-x))\n",
    "    return 1 / (1 + np.exp(-x))\n",
    "\n",
    "def deriv_sigmoid(x): # derivative of sigmoid f(x) = f(x) * ( 1 - f(x) )\n",
    "    fx = sigmoid(x)\n",
    "    return fx * (1 - fx)\n",
    "\n",
    "def mse_loss(y_true, y_pred):\n",
    "#     sigma = sum(y_ture - y_pred) ** 2\n",
    "    return ((y_true - y_pred)**2).mean()\n",
    "\n",
    "class OurNeuralNetwork: # 2 input neurons , hidden layer with 2 neurons and 1 output neuron\n",
    "    \n",
    "    def __init__(self):\n",
    "        \n",
    "        # weights\n",
    "        self.w1 = np.random.normal()\n",
    "        self.w2 = np.random.normal()\n",
    "        self.w3 = np.random.normal()\n",
    "        self.w4 = np.random.normal()\n",
    "        self.w5 = np.random.normal()\n",
    "        self.w6 = np.random.normal()\n",
    "        \n",
    "        # Biases\n",
    "        self.b1 = np.random.normal()\n",
    "        self.b2 = np.random.normal()\n",
    "        self.b3 = np.random.normal()\n",
    "        \n",
    "    def feedforward(self, x):\n",
    "        # x = np.array([0, 1])\n",
    "        h1 = sigmoid(self.w1 * x[0] + self.w2 * x[1] + self.b1)\n",
    "        h2 = sigmoid(self.w3 * x[0] + self.w4 * x[1] + self.b2)\n",
    "        o1 = sigmoid(self.w5 * h1 + self.w6 * h2 + self.b3)\n",
    "        \n",
    "        return o1\n",
    "    \n",
    "    def train(self, data, all_y_trues):\n",
    "        \n",
    "        learn_rate = 0.01\n",
    "        epochs = 1000\n",
    "\n",
    "        \n",
    "        for epoch in range(epochs):\n",
    "            \n",
    "            for x, y_true in zip(data, all_y_trues):\n",
    "\n",
    "                #  feedforward - we'll need these values later\n",
    "                sum_h1 = self.w1 * x[0] + self.w2 * x[1] + self.b1\n",
    "                h1 = sigmoid(sum_h1)\n",
    "\n",
    "                sum_h2 = self.w3 * x[0] + self.w4 * x[1] + self.b2\n",
    "                h2 = sigmoid(sum_h2)\n",
    "\n",
    "                sum_o1 = self.w5 * h1 + self.w6 * h2 + self.b3\n",
    "                o1 = sigmoid(sum_o1)\n",
    "                y_pred = o1\n",
    "                \n",
    "                # partial derivatives\n",
    "                d_L_d_ypred = -2 * (y_true - y_pred)\n",
    "                \n",
    "                 # Neuron o1\n",
    "                d_ypred_d_w5 = h1 * deriv_sigmoid(sum_o1)\n",
    "                d_ypred_d_w6 = h2 * deriv_sigmoid(sum_o1)\n",
    "                d_ypred_d_b3 = deriv_sigmoid(sum_o1)\n",
    "\n",
    "                d_ypred_d_h1 = self.w5 * deriv_sigmoid(sum_o1)\n",
    "                d_ypred_d_h2 = self.w6 * deriv_sigmoid(sum_o1)\n",
    "                \n",
    "                # Neuron h1\n",
    "                d_h1_d_w1 = x[0] * deriv_sigmoid(sum_h1)\n",
    "                d_h1_d_w2 = x[1] * deriv_sigmoid(sum_h1)\n",
    "                d_h1_d_b1 = deriv_sigmoid(sum_h1)\n",
    "\n",
    "                # Neuron h2\n",
    "                d_h2_d_w3 = x[0] * deriv_sigmoid(sum_h2)\n",
    "                d_h2_d_w4 = x[1] * deriv_sigmoid(sum_h2)\n",
    "                d_h2_d_b2 = deriv_sigmoid(sum_h2)\n",
    "                \n",
    "                \n",
    "                # --- Update weights and biases\n",
    "                # Neuron h1\n",
    "                self.w1 -= learn_rate * d_L_d_ypred * d_ypred_d_h1 * d_h1_d_w1\n",
    "                self.w2 -= learn_rate * d_L_d_ypred * d_ypred_d_h1 * d_h1_d_w2\n",
    "                self.b1 -= learn_rate * d_L_d_ypred * d_ypred_d_h1 * d_h1_d_b1\n",
    "\n",
    "                # Neuron h2\n",
    "                self.w3 -= learn_rate * d_L_d_ypred * d_ypred_d_h2 * d_h2_d_w3\n",
    "                self.w4 -= learn_rate * d_L_d_ypred * d_ypred_d_h2 * d_h2_d_w4\n",
    "                self.b2 -= learn_rate * d_L_d_ypred * d_ypred_d_h2 * d_h2_d_b2\n",
    "\n",
    "                # Neuron o1\n",
    "                self.w5 -= learn_rate * d_L_d_ypred * d_ypred_d_w5\n",
    "                self.w6 -= learn_rate * d_L_d_ypred * d_ypred_d_w6\n",
    "                self.b3 -= learn_rate * d_L_d_ypred * d_ypred_d_b3\n",
    "                \n",
    "\n",
    "            # --- Calculate total loss at the end of each epoch\n",
    "            if epoch % 10 == 0:\n",
    "                y_preds = np.apply_along_axis(self.feedforward, 1, data)\n",
    "                loss = mse_loss(all_y_trues, y_preds)\n",
    "#                 print(\"Epoch %d loss: %.3f\" % (epoch, loss))"
   ]
  },
  {
   "cell_type": "code",
   "execution_count": 28,
   "id": "a796b297",
   "metadata": {},
   "outputs": [],
   "source": [
    "# Dataset\n",
    "data = np.array([\n",
    "  [-2, -1],  # Alice\n",
    "  [25, 6],   # Bob\n",
    "  [17, 4],   # Charlie\n",
    "  [-15, -6], # Diana\n",
    "])\n",
    "all_y_trues = np.array([\n",
    "  1, # Alice\n",
    "  0, # Bob\n",
    "  0, # Charlie\n",
    "  1, # Diana\n",
    "])"
   ]
  },
  {
   "cell_type": "code",
   "execution_count": 29,
   "id": "05ee801e",
   "metadata": {},
   "outputs": [],
   "source": [
    "# Training neural network!\n",
    "network = OurNeuralNetwork()\n",
    "training = network.train(data, all_y_trues)"
   ]
  },
  {
   "cell_type": "code",
   "execution_count": 26,
   "id": "59604326",
   "metadata": {},
   "outputs": [
    {
     "ename": "NameError",
     "evalue": "name 'epochs' is not defined",
     "output_type": "error",
     "traceback": [
      "\u001b[0;31m---------------------------------------------------------------------------\u001b[0m",
      "\u001b[0;31mNameError\u001b[0m                                 Traceback (most recent call last)",
      "Cell \u001b[0;32mIn[26], line 1\u001b[0m\n\u001b[0;32m----> 1\u001b[0m epoch \u001b[38;5;241m=\u001b[39m (\u001b[38;5;241m0\u001b[39m, epochs, \u001b[38;5;241m200\u001b[39m)\n\u001b[1;32m      2\u001b[0m plt\u001b[38;5;241m.\u001b[39mfigure(figsize \u001b[38;5;241m=\u001b[39m(\u001b[38;5;241m8\u001b[39m, \u001b[38;5;241m6\u001b[39m))\n\u001b[1;32m      3\u001b[0m plt\u001b[38;5;241m.\u001b[39mplot(        epochs , loss, label \u001b[38;5;241m=\u001b[39m \u001b[38;5;124m'\u001b[39m\u001b[38;5;124m Loss\u001b[39m\u001b[38;5;124m'\u001b[39m, marker \u001b[38;5;241m=\u001b[39m \u001b[38;5;124m'\u001b[39m\u001b[38;5;124mo\u001b[39m\u001b[38;5;124m'\u001b[39m) \n",
      "\u001b[0;31mNameError\u001b[0m: name 'epochs' is not defined"
     ]
    }
   ],
   "source": [
    "epoch = (0, epochs, 200)\n",
    "plt.figure(figsize =(8, 6))\n",
    "plt.plot(epochs , loss, label = ' Loss', marker = 'o') \n",
    "plt.xlabel('Epochs', fontsize=12)\n",
    "plt.ylabel('Loss', fontsize=12)\n",
    "plt.title(' Analysis', fontsize=14)\n",
    "\n",
    "plt.legend()\n",
    "plt.show()"
   ]
  },
  {
   "cell_type": "code",
   "execution_count": 18,
   "id": "e126c618",
   "metadata": {},
   "outputs": [
    {
     "name": "stdout",
     "output_type": "stream",
     "text": [
      "Emily: 0.837\n",
      "Frank: 0.184\n"
     ]
    }
   ],
   "source": [
    "# Make some predictions\n",
    "emily = np.array([-7, -3]) # 128 pounds, 63 inches\n",
    "frank = np.array([20, 2])  # 155 pounds, 68 inches\n",
    "print(\"Emily: %.3f\" % network.feedforward(emily)) # 0.951 - F\n",
    "print(\"Frank: %.3f\" % network.feedforward(frank)) # 0.039 - M"
   ]
  },
  {
   "cell_type": "code",
   "execution_count": null,
   "id": "5031cf9d",
   "metadata": {},
   "outputs": [],
   "source": []
  }
 ],
 "metadata": {
  "kernelspec": {
   "display_name": "Python 3 (ipykernel)",
   "language": "python",
   "name": "python3"
  },
  "language_info": {
   "codemirror_mode": {
    "name": "ipython",
    "version": 3
   },
   "file_extension": ".py",
   "mimetype": "text/x-python",
   "name": "python",
   "nbconvert_exporter": "python",
   "pygments_lexer": "ipython3",
   "version": "3.12.4"
  }
 },
 "nbformat": 4,
 "nbformat_minor": 5
}
