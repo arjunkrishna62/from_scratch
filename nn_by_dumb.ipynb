{
 "cells": [
  {
   "cell_type": "code",
   "execution_count": 15,
   "id": "b2925d0a",
   "metadata": {},
   "outputs": [],
   "source": [
    "import os\n",
    "import math\n",
    "import tiktoken\n",
    "import re\n",
    "import pandas as pd\n",
    "import numpy as np\n",
    "import torch\n",
    "import torch.nn as nn"
   ]
  },
  {
   "cell_type": "code",
   "execution_count": 25,
   "id": "7feba8bb",
   "metadata": {},
   "outputs": [
    {
     "name": "stdout",
     "output_type": "stream",
     "text": [
      "train has 62,186 tokens\n",
      "val has 6,902 tokens\n"
     ]
    }
   ],
   "source": [
    "source_file = '/Users/arjunkrishna/Desktop/tfr_llm/the-hundred-page-machine-learning--.txt'\n",
    "\n",
    "with open(source_file, 'r', encoding='utf-8') as f:\n",
    "    raw_data = f.read()\n",
    "\n",
    "preprocessed = re.split(r'([,.:;?_!\"()\\']|--|\\s)', raw_data)\n",
    "preprocessed = [item.strip() for item in preprocessed if item.strip()]\n",
    "\n",
    "# split into 90/10\n",
    "n = len(preprocessed)\n",
    "train_data = preprocessed[:int(n*0.9)]\n",
    "val_data = preprocessed[int(n*0.9):]\n",
    "\n",
    "train_text = \" \".join(train_data) #'text': 'list' object cannot be converted to 'PyString' \n",
    "val_text = \" \".join(val_data) # so we romove the list by using join\n",
    "\n",
    "# tokenize using gpt2 \n",
    "enc = tiktoken.get_encoding(\"gpt2\")\n",
    "train_ids = enc.encode_ordinary(train_text)\n",
    "val_ids = enc.encode_ordinary(val_text)\n",
    "\n",
    "torch.save(torch.tensor(train_ids), 'train.pt')\n",
    "torch.save(torch.tensor(val_ids), 'train.pt')\n",
    "\n",
    "print(f\"train has {len(train_ids):,} tokens\")\n",
    "print(f\"val has {len(val_ids):,} tokens\")\n",
    "\n"
   ]
  },
  {
   "cell_type": "code",
   "execution_count": null,
   "id": "a142ec0e",
   "metadata": {},
   "outputs": [],
   "source": []
  },
  {
   "cell_type": "code",
   "execution_count": null,
   "id": "5bd20b6f",
   "metadata": {},
   "outputs": [],
   "source": []
  },
  {
   "cell_type": "code",
   "execution_count": null,
   "id": "d4452ff1",
   "metadata": {},
   "outputs": [],
   "source": []
  }
 ],
 "metadata": {
  "kernelspec": {
   "display_name": "Python 3 (ipykernel)",
   "language": "python",
   "name": "python3"
  },
  "language_info": {
   "codemirror_mode": {
    "name": "ipython",
    "version": 3
   },
   "file_extension": ".py",
   "mimetype": "text/x-python",
   "name": "python",
   "nbconvert_exporter": "python",
   "pygments_lexer": "ipython3",
   "version": "3.12.4"
  }
 },
 "nbformat": 4,
 "nbformat_minor": 5
}
