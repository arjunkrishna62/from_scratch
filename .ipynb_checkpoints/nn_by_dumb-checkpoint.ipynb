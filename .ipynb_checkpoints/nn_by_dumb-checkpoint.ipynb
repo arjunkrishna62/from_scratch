{
 "cells": [
  {
   "cell_type": "code",
   "execution_count": 56,
   "id": "b2925d0a",
   "metadata": {},
   "outputs": [],
   "source": [
    "import os\n",
    "import math\n",
    "import tiktoken\n",
    "import pandas as pd\n",
    "import numpy as np\n",
    "import torch\n",
    "import torch.nn as nn"
   ]
  },
  {
   "cell_type": "code",
   "execution_count": 46,
   "id": "7feba8bb",
   "metadata": {},
   "outputs": [
    {
     "name": "stdout",
     "output_type": "stream",
     "text": [
      "train has 70,529 tokens\n",
      "val has 7,384 tokens\n"
     ]
    }
   ],
   "source": [
    "source_file = '/Users/arjunkrishna/Desktop/tfr_llm/the-hundred-page-machine-learning--.txt'\n",
    "\n",
    "with open(source_file, 'r', encoding='utf-8') as f:\n",
    "    data = f.read()\n",
    "\n",
    "\n",
    "# split into 90/10\n",
    "n = len(data)\n",
    "train_data = data[:int(n*0.9)]\n",
    "val_data = data[int(n*0.9):]\n",
    "\n",
    "# tokenize using gpt2 \n",
    "enc = tiktoken.get_encoding(\"gpt2\")\n",
    "train_ids = enc.encode_ordinary(train_data)\n",
    "val_ids = enc.encode_ordinary(val_data)\n",
    "\n",
    "torch.save(torch.tensor(train_ids), 'train.pt')\n",
    "torch.save(torch.tensor(val_ids), 'train.pt')\n",
    "\n",
    "print(f\"train has {len(train_ids):,} tokens\")\n",
    "print(f\"val has {len(val_ids):,} tokens\")\n",
    "\n"
   ]
  },
  {
   "cell_type": "code",
   "execution_count": 59,
   "id": "671478ea",
   "metadata": {},
   "outputs": [
    {
     "ename": "SyntaxError",
     "evalue": "expected '(' (1168370887.py, line 1)",
     "output_type": "error",
     "traceback": [
      "\u001b[0;36m  Cell \u001b[0;32mIn[59], line 1\u001b[0;36m\u001b[0m\n\u001b[0;31m    def nn __init__(self, block_size, batch_size):\u001b[0m\n\u001b[0m           ^\u001b[0m\n\u001b[0;31mSyntaxError\u001b[0m\u001b[0;31m:\u001b[0m expected '('\n"
     ]
    }
   ],
   "source": [
    "def nn __init__(self, block_size, batch_size):\n",
    "    self.bock_size = 32\n",
    "    self.batch_size = 256\n",
    "    "
   ]
  },
  {
   "cell_type": "code",
   "execution_count": null,
   "id": "a142ec0e",
   "metadata": {},
   "outputs": [],
   "source": []
  },
  {
   "cell_type": "code",
   "execution_count": null,
   "id": "5bd20b6f",
   "metadata": {},
   "outputs": [],
   "source": []
  }
 ],
 "metadata": {
  "kernelspec": {
   "display_name": "Python 3 (ipykernel)",
   "language": "python",
   "name": "python3"
  },
  "language_info": {
   "codemirror_mode": {
    "name": "ipython",
    "version": 3
   },
   "file_extension": ".py",
   "mimetype": "text/x-python",
   "name": "python",
   "nbconvert_exporter": "python",
   "pygments_lexer": "ipython3",
   "version": "3.12.4"
  }
 },
 "nbformat": 4,
 "nbformat_minor": 5
}
